{
 "cells": [
  {
   "cell_type": "code",
   "execution_count": 1,
   "metadata": {},
   "outputs": [],
   "source": [
    "import pandas as pd"
   ]
  },
  {
   "cell_type": "code",
   "execution_count": 38,
   "metadata": {},
   "outputs": [],
   "source": [
    "df=pd.read_excel('/Users/moritzfernholz/Desktop/Book5.xlsx')\n",
    "#data source: https://www.basketball-reference.com/leagues/NBA_2021_advanced.html"
   ]
  },
  {
   "cell_type": "markdown",
   "metadata": {},
   "source": [
    "# Explore DataFrame"
   ]
  },
  {
   "cell_type": "code",
   "execution_count": 39,
   "metadata": {},
   "outputs": [
    {
     "data": {
      "text/html": [
       "<div>\n",
       "<style scoped>\n",
       "    .dataframe tbody tr th:only-of-type {\n",
       "        vertical-align: middle;\n",
       "    }\n",
       "\n",
       "    .dataframe tbody tr th {\n",
       "        vertical-align: top;\n",
       "    }\n",
       "\n",
       "    .dataframe thead th {\n",
       "        text-align: right;\n",
       "    }\n",
       "</style>\n",
       "<table border=\"1\" class=\"dataframe\">\n",
       "  <thead>\n",
       "    <tr style=\"text-align: right;\">\n",
       "      <th></th>\n",
       "      <th>Rk</th>\n",
       "      <th>Player</th>\n",
       "      <th>Pos</th>\n",
       "      <th>Age</th>\n",
       "      <th>Tm</th>\n",
       "      <th>G</th>\n",
       "      <th>MP</th>\n",
       "      <th>PER</th>\n",
       "      <th>TS%</th>\n",
       "      <th>3PAr</th>\n",
       "      <th>...</th>\n",
       "      <th>TOV%</th>\n",
       "      <th>USG%</th>\n",
       "      <th>OWS</th>\n",
       "      <th>DWS</th>\n",
       "      <th>WS</th>\n",
       "      <th>WS/48</th>\n",
       "      <th>OBPM</th>\n",
       "      <th>DBPM</th>\n",
       "      <th>BPM</th>\n",
       "      <th>VORP</th>\n",
       "    </tr>\n",
       "  </thead>\n",
       "  <tbody>\n",
       "    <tr>\n",
       "      <th>0</th>\n",
       "      <td>1</td>\n",
       "      <td>Precious Achiuwa\\achiupr01</td>\n",
       "      <td>PF</td>\n",
       "      <td>21</td>\n",
       "      <td>MIA</td>\n",
       "      <td>38</td>\n",
       "      <td>510</td>\n",
       "      <td>15.0</td>\n",
       "      <td>0.588</td>\n",
       "      <td>0.000</td>\n",
       "      <td>...</td>\n",
       "      <td>15.5</td>\n",
       "      <td>19.3</td>\n",
       "      <td>0.3</td>\n",
       "      <td>0.8</td>\n",
       "      <td>1.1</td>\n",
       "      <td>0.108</td>\n",
       "      <td>-2.8</td>\n",
       "      <td>-0.4</td>\n",
       "      <td>-3.2</td>\n",
       "      <td>-0.2</td>\n",
       "    </tr>\n",
       "    <tr>\n",
       "      <th>1</th>\n",
       "      <td>2</td>\n",
       "      <td>Jaylen Adams\\adamsja01</td>\n",
       "      <td>PG</td>\n",
       "      <td>24</td>\n",
       "      <td>MIL</td>\n",
       "      <td>7</td>\n",
       "      <td>18</td>\n",
       "      <td>-6.6</td>\n",
       "      <td>0.125</td>\n",
       "      <td>0.250</td>\n",
       "      <td>...</td>\n",
       "      <td>0.0</td>\n",
       "      <td>18.6</td>\n",
       "      <td>-0.1</td>\n",
       "      <td>0.0</td>\n",
       "      <td>-0.1</td>\n",
       "      <td>-0.248</td>\n",
       "      <td>-14.9</td>\n",
       "      <td>-5.0</td>\n",
       "      <td>-19.8</td>\n",
       "      <td>-0.1</td>\n",
       "    </tr>\n",
       "    <tr>\n",
       "      <th>2</th>\n",
       "      <td>3</td>\n",
       "      <td>Steven Adams\\adamsst01</td>\n",
       "      <td>C</td>\n",
       "      <td>27</td>\n",
       "      <td>NOP</td>\n",
       "      <td>36</td>\n",
       "      <td>987</td>\n",
       "      <td>16.6</td>\n",
       "      <td>0.613</td>\n",
       "      <td>0.010</td>\n",
       "      <td>...</td>\n",
       "      <td>18.5</td>\n",
       "      <td>12.8</td>\n",
       "      <td>1.7</td>\n",
       "      <td>0.7</td>\n",
       "      <td>2.5</td>\n",
       "      <td>0.120</td>\n",
       "      <td>0.4</td>\n",
       "      <td>-0.9</td>\n",
       "      <td>-0.5</td>\n",
       "      <td>0.4</td>\n",
       "    </tr>\n",
       "    <tr>\n",
       "      <th>3</th>\n",
       "      <td>4</td>\n",
       "      <td>Bam Adebayo\\adebaba01</td>\n",
       "      <td>C</td>\n",
       "      <td>23</td>\n",
       "      <td>MIA</td>\n",
       "      <td>33</td>\n",
       "      <td>1119</td>\n",
       "      <td>22.0</td>\n",
       "      <td>0.631</td>\n",
       "      <td>0.014</td>\n",
       "      <td>...</td>\n",
       "      <td>16.3</td>\n",
       "      <td>24.0</td>\n",
       "      <td>2.7</td>\n",
       "      <td>1.8</td>\n",
       "      <td>4.5</td>\n",
       "      <td>0.195</td>\n",
       "      <td>2.6</td>\n",
       "      <td>1.8</td>\n",
       "      <td>4.4</td>\n",
       "      <td>1.8</td>\n",
       "    </tr>\n",
       "    <tr>\n",
       "      <th>4</th>\n",
       "      <td>5</td>\n",
       "      <td>LaMarcus Aldridge\\aldrila01</td>\n",
       "      <td>C</td>\n",
       "      <td>35</td>\n",
       "      <td>SAS</td>\n",
       "      <td>21</td>\n",
       "      <td>544</td>\n",
       "      <td>15.0</td>\n",
       "      <td>0.545</td>\n",
       "      <td>0.302</td>\n",
       "      <td>...</td>\n",
       "      <td>7.0</td>\n",
       "      <td>22.7</td>\n",
       "      <td>0.3</td>\n",
       "      <td>0.6</td>\n",
       "      <td>0.9</td>\n",
       "      <td>0.075</td>\n",
       "      <td>-0.2</td>\n",
       "      <td>-1.0</td>\n",
       "      <td>-1.2</td>\n",
       "      <td>0.1</td>\n",
       "    </tr>\n",
       "  </tbody>\n",
       "</table>\n",
       "<p>5 rows × 27 columns</p>\n",
       "</div>"
      ],
      "text/plain": [
       "   Rk                       Player Pos  Age   Tm   G    MP   PER    TS%  \\\n",
       "0   1   Precious Achiuwa\\achiupr01  PF   21  MIA  38   510  15.0  0.588   \n",
       "1   2       Jaylen Adams\\adamsja01  PG   24  MIL   7    18  -6.6  0.125   \n",
       "2   3       Steven Adams\\adamsst01   C   27  NOP  36   987  16.6  0.613   \n",
       "3   4        Bam Adebayo\\adebaba01   C   23  MIA  33  1119  22.0  0.631   \n",
       "4   5  LaMarcus Aldridge\\aldrila01   C   35  SAS  21   544  15.0  0.545   \n",
       "\n",
       "    3PAr  ...  TOV%  USG%  OWS  DWS   WS  WS/48  OBPM  DBPM   BPM  VORP  \n",
       "0  0.000  ...  15.5  19.3  0.3  0.8  1.1  0.108  -2.8  -0.4  -3.2  -0.2  \n",
       "1  0.250  ...   0.0  18.6 -0.1  0.0 -0.1 -0.248 -14.9  -5.0 -19.8  -0.1  \n",
       "2  0.010  ...  18.5  12.8  1.7  0.7  2.5  0.120   0.4  -0.9  -0.5   0.4  \n",
       "3  0.014  ...  16.3  24.0  2.7  1.8  4.5  0.195   2.6   1.8   4.4   1.8  \n",
       "4  0.302  ...   7.0  22.7  0.3  0.6  0.9  0.075  -0.2  -1.0  -1.2   0.1  \n",
       "\n",
       "[5 rows x 27 columns]"
      ]
     },
     "execution_count": 39,
     "metadata": {},
     "output_type": "execute_result"
    }
   ],
   "source": [
    "df.head()"
   ]
  },
  {
   "cell_type": "code",
   "execution_count": 40,
   "metadata": {},
   "outputs": [
    {
     "name": "stdout",
     "output_type": "stream",
     "text": [
      "shape: (525, 27)\n",
      "first rows:    Rk                       Player Pos  Age   Tm   G    MP   PER    TS%  \\\n",
      "0   1   Precious Achiuwa\\achiupr01  PF   21  MIA  38   510  15.0  0.588   \n",
      "1   2       Jaylen Adams\\adamsja01  PG   24  MIL   7    18  -6.6  0.125   \n",
      "2   3       Steven Adams\\adamsst01   C   27  NOP  36   987  16.6  0.613   \n",
      "3   4        Bam Adebayo\\adebaba01   C   23  MIA  33  1119  22.0  0.631   \n",
      "4   5  LaMarcus Aldridge\\aldrila01   C   35  SAS  21   544  15.0  0.545   \n",
      "\n",
      "    3PAr  ...  TOV%  USG%  OWS  DWS   WS  WS/48  OBPM  DBPM   BPM  VORP  \n",
      "0  0.000  ...  15.5  19.3  0.3  0.8  1.1  0.108  -2.8  -0.4  -3.2  -0.2  \n",
      "1  0.250  ...   0.0  18.6 -0.1  0.0 -0.1 -0.248 -14.9  -5.0 -19.8  -0.1  \n",
      "2  0.010  ...  18.5  12.8  1.7  0.7  2.5  0.120   0.4  -0.9  -0.5   0.4  \n",
      "3  0.014  ...  16.3  24.0  2.7  1.8  4.5  0.195   2.6   1.8   4.4   1.8  \n",
      "4  0.302  ...   7.0  22.7  0.3  0.6  0.9  0.075  -0.2  -1.0  -1.2   0.1  \n",
      "\n",
      "[5 rows x 27 columns]\n",
      "datatypes: Rk          int64\n",
      "Player     object\n",
      "Pos        object\n",
      "Age         int64\n",
      "Tm         object\n",
      "G           int64\n",
      "MP          int64\n",
      "PER       float64\n",
      "TS%       float64\n",
      "3PAr      float64\n",
      "FTr       float64\n",
      "ORB%      float64\n",
      "DRB%      float64\n",
      "TRB%      float64\n",
      "AST%      float64\n",
      "STL%      float64\n",
      "BLK%      float64\n",
      "TOV%      float64\n",
      "USG%      float64\n",
      "OWS       float64\n",
      "DWS       float64\n",
      "WS        float64\n",
      "WS/48     float64\n",
      "OBPM      float64\n",
      "DBPM      float64\n",
      "BPM       float64\n",
      "VORP      float64\n",
      "dtype: object\n"
     ]
    }
   ],
   "source": [
    "#Dataframe Exploration\n",
    "print('shape:', df.shape)\n",
    "print('first rows:', df.head())\n",
    "print('datatypes:', df.dtypes)"
   ]
  },
  {
   "cell_type": "code",
   "execution_count": 41,
   "metadata": {},
   "outputs": [
    {
     "name": "stdout",
     "output_type": "stream",
     "text": [
      "datatypes: Rk          int64\n",
      "Player     object\n",
      "Pos        object\n",
      "Age         int64\n",
      "Tm         object\n",
      "G           int64\n",
      "MP          int64\n",
      "PER       float64\n",
      "TS%       float64\n",
      "3PAr      float64\n",
      "FTr       float64\n",
      "ORB%      float64\n",
      "DRB%      float64\n",
      "TRB%      float64\n",
      "AST%      float64\n",
      "STL%      float64\n",
      "BLK%      float64\n",
      "TOV%      float64\n",
      "USG%      float64\n",
      "OWS       float64\n",
      "DWS       float64\n",
      "WS        float64\n",
      "WS/48     float64\n",
      "OBPM      float64\n",
      "DBPM      float64\n",
      "BPM       float64\n",
      "VORP      float64\n",
      "dtype: object\n"
     ]
    },
    {
     "data": {
      "text/html": [
       "<div>\n",
       "<style scoped>\n",
       "    .dataframe tbody tr th:only-of-type {\n",
       "        vertical-align: middle;\n",
       "    }\n",
       "\n",
       "    .dataframe tbody tr th {\n",
       "        vertical-align: top;\n",
       "    }\n",
       "\n",
       "    .dataframe thead th {\n",
       "        text-align: right;\n",
       "    }\n",
       "</style>\n",
       "<table border=\"1\" class=\"dataframe\">\n",
       "  <thead>\n",
       "    <tr style=\"text-align: right;\">\n",
       "      <th></th>\n",
       "      <th>Rk</th>\n",
       "      <th>Player</th>\n",
       "      <th>Pos</th>\n",
       "      <th>Age</th>\n",
       "      <th>Tm</th>\n",
       "      <th>G</th>\n",
       "      <th>MP</th>\n",
       "      <th>PER</th>\n",
       "      <th>TS%</th>\n",
       "      <th>3PAr</th>\n",
       "      <th>...</th>\n",
       "      <th>TOV%</th>\n",
       "      <th>USG%</th>\n",
       "      <th>OWS</th>\n",
       "      <th>DWS</th>\n",
       "      <th>WS</th>\n",
       "      <th>WS/48</th>\n",
       "      <th>OBPM</th>\n",
       "      <th>DBPM</th>\n",
       "      <th>BPM</th>\n",
       "      <th>VORP</th>\n",
       "    </tr>\n",
       "  </thead>\n",
       "  <tbody>\n",
       "    <tr>\n",
       "      <th>0</th>\n",
       "      <td>1</td>\n",
       "      <td>Precious Achiuwa\\achiupr01</td>\n",
       "      <td>PF</td>\n",
       "      <td>21</td>\n",
       "      <td>MIA</td>\n",
       "      <td>38</td>\n",
       "      <td>510</td>\n",
       "      <td>15.0</td>\n",
       "      <td>0.588</td>\n",
       "      <td>0.000</td>\n",
       "      <td>...</td>\n",
       "      <td>15.5</td>\n",
       "      <td>19.3</td>\n",
       "      <td>0.3</td>\n",
       "      <td>0.8</td>\n",
       "      <td>1.1</td>\n",
       "      <td>0.108</td>\n",
       "      <td>-2.8</td>\n",
       "      <td>-0.4</td>\n",
       "      <td>-3.2</td>\n",
       "      <td>-0.2</td>\n",
       "    </tr>\n",
       "    <tr>\n",
       "      <th>1</th>\n",
       "      <td>2</td>\n",
       "      <td>Jaylen Adams\\adamsja01</td>\n",
       "      <td>PG</td>\n",
       "      <td>24</td>\n",
       "      <td>MIL</td>\n",
       "      <td>7</td>\n",
       "      <td>18</td>\n",
       "      <td>-6.6</td>\n",
       "      <td>0.125</td>\n",
       "      <td>0.250</td>\n",
       "      <td>...</td>\n",
       "      <td>0.0</td>\n",
       "      <td>18.6</td>\n",
       "      <td>-0.1</td>\n",
       "      <td>0.0</td>\n",
       "      <td>-0.1</td>\n",
       "      <td>-0.248</td>\n",
       "      <td>-14.9</td>\n",
       "      <td>-5.0</td>\n",
       "      <td>-19.8</td>\n",
       "      <td>-0.1</td>\n",
       "    </tr>\n",
       "    <tr>\n",
       "      <th>2</th>\n",
       "      <td>3</td>\n",
       "      <td>Steven Adams\\adamsst01</td>\n",
       "      <td>C</td>\n",
       "      <td>27</td>\n",
       "      <td>NOP</td>\n",
       "      <td>36</td>\n",
       "      <td>987</td>\n",
       "      <td>16.6</td>\n",
       "      <td>0.613</td>\n",
       "      <td>0.010</td>\n",
       "      <td>...</td>\n",
       "      <td>18.5</td>\n",
       "      <td>12.8</td>\n",
       "      <td>1.7</td>\n",
       "      <td>0.7</td>\n",
       "      <td>2.5</td>\n",
       "      <td>0.120</td>\n",
       "      <td>0.4</td>\n",
       "      <td>-0.9</td>\n",
       "      <td>-0.5</td>\n",
       "      <td>0.4</td>\n",
       "    </tr>\n",
       "    <tr>\n",
       "      <th>3</th>\n",
       "      <td>4</td>\n",
       "      <td>Bam Adebayo\\adebaba01</td>\n",
       "      <td>C</td>\n",
       "      <td>23</td>\n",
       "      <td>MIA</td>\n",
       "      <td>33</td>\n",
       "      <td>1119</td>\n",
       "      <td>22.0</td>\n",
       "      <td>0.631</td>\n",
       "      <td>0.014</td>\n",
       "      <td>...</td>\n",
       "      <td>16.3</td>\n",
       "      <td>24.0</td>\n",
       "      <td>2.7</td>\n",
       "      <td>1.8</td>\n",
       "      <td>4.5</td>\n",
       "      <td>0.195</td>\n",
       "      <td>2.6</td>\n",
       "      <td>1.8</td>\n",
       "      <td>4.4</td>\n",
       "      <td>1.8</td>\n",
       "    </tr>\n",
       "    <tr>\n",
       "      <th>4</th>\n",
       "      <td>5</td>\n",
       "      <td>LaMarcus Aldridge\\aldrila01</td>\n",
       "      <td>C</td>\n",
       "      <td>35</td>\n",
       "      <td>SAS</td>\n",
       "      <td>21</td>\n",
       "      <td>544</td>\n",
       "      <td>15.0</td>\n",
       "      <td>0.545</td>\n",
       "      <td>0.302</td>\n",
       "      <td>...</td>\n",
       "      <td>7.0</td>\n",
       "      <td>22.7</td>\n",
       "      <td>0.3</td>\n",
       "      <td>0.6</td>\n",
       "      <td>0.9</td>\n",
       "      <td>0.075</td>\n",
       "      <td>-0.2</td>\n",
       "      <td>-1.0</td>\n",
       "      <td>-1.2</td>\n",
       "      <td>0.1</td>\n",
       "    </tr>\n",
       "  </tbody>\n",
       "</table>\n",
       "<p>5 rows × 27 columns</p>\n",
       "</div>"
      ],
      "text/plain": [
       "   Rk                       Player Pos  Age   Tm   G    MP   PER    TS%  \\\n",
       "0   1   Precious Achiuwa\\achiupr01  PF   21  MIA  38   510  15.0  0.588   \n",
       "1   2       Jaylen Adams\\adamsja01  PG   24  MIL   7    18  -6.6  0.125   \n",
       "2   3       Steven Adams\\adamsst01   C   27  NOP  36   987  16.6  0.613   \n",
       "3   4        Bam Adebayo\\adebaba01   C   23  MIA  33  1119  22.0  0.631   \n",
       "4   5  LaMarcus Aldridge\\aldrila01   C   35  SAS  21   544  15.0  0.545   \n",
       "\n",
       "    3PAr  ...  TOV%  USG%  OWS  DWS   WS  WS/48  OBPM  DBPM   BPM  VORP  \n",
       "0  0.000  ...  15.5  19.3  0.3  0.8  1.1  0.108  -2.8  -0.4  -3.2  -0.2  \n",
       "1  0.250  ...   0.0  18.6 -0.1  0.0 -0.1 -0.248 -14.9  -5.0 -19.8  -0.1  \n",
       "2  0.010  ...  18.5  12.8  1.7  0.7  2.5  0.120   0.4  -0.9  -0.5   0.4  \n",
       "3  0.014  ...  16.3  24.0  2.7  1.8  4.5  0.195   2.6   1.8   4.4   1.8  \n",
       "4  0.302  ...   7.0  22.7  0.3  0.6  0.9  0.075  -0.2  -1.0  -1.2   0.1  \n",
       "\n",
       "[5 rows x 27 columns]"
      ]
     },
     "execution_count": 41,
     "metadata": {},
     "output_type": "execute_result"
    }
   ],
   "source": [
    "df.describe().astype(int)\n",
    "print('datatypes:', df.dtypes)\n",
    "df.head()"
   ]
  },
  {
   "cell_type": "code",
   "execution_count": 42,
   "metadata": {},
   "outputs": [
    {
     "name": "stdout",
     "output_type": "stream",
     "text": [
      "count     525\n",
      "unique     31\n",
      "top       BRK\n",
      "freq       23\n",
      "Name: Tm, dtype: object\n"
     ]
    }
   ],
   "source": [
    "print(df['Tm'].describe())"
   ]
  },
  {
   "cell_type": "markdown",
   "metadata": {},
   "source": [
    "# Plotting of descriptive stats"
   ]
  },
  {
   "cell_type": "code",
   "execution_count": 43,
   "metadata": {},
   "outputs": [],
   "source": [
    "import matplotlib.pyplot as plt"
   ]
  },
  {
   "cell_type": "code",
   "execution_count": 44,
   "metadata": {
    "scrolled": true
   },
   "outputs": [
    {
     "data": {
      "image/png": "[encoded data removed]",
      "text/plain": [
       "<Figure size 1440x360 with 1 Axes>"
      ]
     },
     "metadata": {
      "needs_background": "light"
     },
     "output_type": "display_data"
    }
   ],
   "source": [
    "#Games per team in descending order \n",
    "df.sort_values('G', ascending=False, inplace=True)\n",
    "x = df['Tm']\n",
    "y = df['G']\n",
    "plt.figure(figsize=(20,5))\n",
    "\n",
    "plt.bar(x,y)\n",
    "plt.xlabel('Team')\n",
    "plt.ylabel('Games')\n",
    "plt.show()"
   ]
  },
  {
   "cell_type": "markdown",
   "metadata": {},
   "source": [
    "## Identify Assumptions"
   ]
  },
  {
   "cell_type": "code",
   "execution_count": 52,
   "metadata": {},
   "outputs": [
    {
     "data": {
      "image/png": "[encoded data removed]",
      "text/plain": [
       "<Figure size 432x288 with 1 Axes>"
      ]
     },
     "metadata": {
      "needs_background": "light"
     },
     "output_type": "display_data"
    }
   ],
   "source": [
    "#Scatter plot Age vs PER\n",
    "a=df['Age']\n",
    "b=df['PER']\n",
    "plt.scatter(a,b)\n",
    "plt.xlabel('Age')\n",
    "plt.ylabel('PER')\n",
    "plt.title('Age vs PER')\n",
    "plt.show()\n",
    "\n"
   ]
  },
  {
   "cell_type": "markdown",
   "metadata": {},
   "source": [
    "### Prove correlation"
   ]
  },
  {
   "cell_type": "code",
   "execution_count": 55,
   "metadata": {},
   "outputs": [
    {
     "name": "stdout",
     "output_type": "stream",
     "text": [
      "pearson (0.167691210335412, 0.00011315524419240239)\n",
      "spearman SpearmanrResult(correlation=0.16834672123516314, pvalue=0.00010627082951715891)\n",
      "kendall KendalltauResult(correlation=0.11581173128411532, pvalue=0.00013050287039820789)\n"
     ]
    }
   ],
   "source": [
    "#calculate correlation\n",
    "import scipy.stats\n",
    "print('pearson', scipy.stats.pearsonr(a,b))\n",
    "print('spearman', scipy.stats.spearmanr(a,b))\n",
    "print('kendall', scipy.stats.kendalltau(a,b))\n"
   ]
  },
  {
   "cell_type": "markdown",
   "metadata": {},
   "source": [
    "Only a small positive correlation, which is, nevertheless, significant."
   ]
  },
  {
   "cell_type": "markdown",
   "metadata": {},
   "source": [
    "### Other hypothesis"
   ]
  },
  {
   "cell_type": "code",
   "execution_count": 56,
   "metadata": {
    "scrolled": true
   },
   "outputs": [
    {
     "data": {
      "image/png": "[encoded data removed]",
      "text/plain": [
       "<Figure size 432x288 with 1 Axes>"
      ]
     },
     "metadata": {
      "needs_background": "light"
     },
     "output_type": "display_data"
    }
   ],
   "source": [
    "#Scatter Plot Boxscore Plus-Minus and PER\n",
    "d=df['BPM']\n",
    "plt.scatter(d,b)\n",
    "plt.xlabel('Boxscore Plus-Minus')\n",
    "plt.ylabel('PER')\n",
    "plt.title('Plus-Minus vs PER')\n",
    "plt.show()"
   ]
  },
  {
   "cell_type": "markdown",
   "metadata": {},
   "source": [
    "Looks like a very high correlation between the Boxscore Plus-Minus and PER. Next step is to calculate the correlation and if it is statsitical significant."
   ]
  },
  {
   "cell_type": "code",
   "execution_count": 57,
   "metadata": {},
   "outputs": [
    {
     "name": "stdout",
     "output_type": "stream",
     "text": [
      "pearson (0.9270898646786624, 4.9673650638941236e-225)\n",
      "spearman SpearmanrResult(correlation=0.8687165188989606, pvalue=1.0565195086001337e-161)\n",
      "kendall KendalltauResult(correlation=0.7074041228486647, pvalue=4.573395499086192e-128)\n"
     ]
    }
   ],
   "source": [
    "#calculate correlation\n",
    "import scipy.stats\n",
    "print('pearson', scipy.stats.pearsonr(d,b))\n",
    "print('spearman', scipy.stats.spearmanr(d,b))\n",
    "print('kendall', scipy.stats.kendalltau(d,b))\n",
    "#Very strong correlation between Plus/Minus-Score and PER which is statsiticlly significant"
   ]
  },
  {
   "cell_type": "markdown",
   "metadata": {},
   "source": [
    "Result is very highly correlated and statistically siginicant. Next step, model linear regression."
   ]
  },
  {
   "cell_type": "code",
   "execution_count": 59,
   "metadata": {},
   "outputs": [],
   "source": [
    "#install packages\n",
    "import numpy as np\n",
    "from sklearn.linear_model import LinearRegression"
   ]
  },
  {
   "cell_type": "code",
   "execution_count": 67,
   "metadata": {},
   "outputs": [
    {
     "name": "stdout",
     "output_type": "stream",
     "text": [
      "coefficients of model: 0.8594956171899005\n",
      "Intercept 15.230357146070592\n",
      "Slope [1.26916727]\n"
     ]
    }
   ],
   "source": [
    "#Transform data into Arrays and calculate linear Regression Model\n",
    "X=df[['BPM']].values\n",
    "b2=df['PER'].values\n",
    "\n",
    "#calculate model\n",
    "model=LinearRegression().fit(X,b2)\n",
    "r_sq=model.score(X,b2)\n",
    "print('coefficients of model:', r_sq)\n",
    "print('Intercept', model.intercept_)\n",
    "print('Slope', model.coef_)"
   ]
  },
  {
   "cell_type": "markdown",
   "metadata": {},
   "source": [
    "Now that we have the coefficients, it is time to plot it\n"
   ]
  },
  {
   "cell_type": "code",
   "execution_count": 68,
   "metadata": {},
   "outputs": [
    {
     "data": {
      "image/png": "[encoded data removed]",
      "text/plain": [
       "<Figure size 432x288 with 1 Axes>"
      ]
     },
     "metadata": {
      "needs_background": "light"
     },
     "output_type": "display_data"
    }
   ],
   "source": [
    "d=df['BPM']\n",
    "plt.scatter(d,b)\n",
    "yhat=model.coef_*d+model.intercept_\n",
    "fig=plt.plot(d,yhat, lw=4, c='orange', label='regression line')\n",
    "plt.xlabel('Boxscore Plus-Minus')\n",
    "plt.ylabel('PER')\n",
    "plt.title('Plus-Minus vs PER')\n",
    "plt.show()"
   ]
  },
  {
   "cell_type": "code",
   "execution_count": null,
   "metadata": {},
   "outputs": [],
   "source": []
  }
 ],
 "metadata": {
  "kernelspec": {
   "display_name": "Python 3",
   "language": "python",
   "name": "python3"
  },
  "language_info": {
   "codemirror_mode": {
    "name": "ipython",
    "version": 3
   },
   "file_extension": ".py",
   "mimetype": "text/x-python",
   "name": "python",
   "nbconvert_exporter": "python",
   "pygments_lexer": "ipython3",
   "version": "3.8.5"
  }
 },
 "nbformat": 4,
 "nbformat_minor": 4
}
