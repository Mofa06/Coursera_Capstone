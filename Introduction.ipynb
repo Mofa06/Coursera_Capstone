{
 "cells": [
  {
   "cell_type": "markdown",
   "metadata": {},
   "source": [
    "## Introduction"
   ]
  },
  {
   "cell_type": "markdown",
   "metadata": {},
   "source": [
    "The City of New York is the most populous city in the U.S. It is diverse and is the financial capital of the world. IT is multicultural and provides business opportunities and a business friendly environment. It has attracted many different players into the market. As it is a major centre for banking, finance, retail, world trade, transportation, tourism, real estate, media, advertising and many more, it is very competitive. Due to this state of being highly developed the costs of doing business are also amongst the highest in the world. Hence, any new business venture or expansions need to be analysed carefully. The insights derived from  the following analysis will give a robust understanding of the business environment which helps to segment the market and target and target it appropriately to minimise the risk. "
   ]
  },
  {
   "cell_type": "markdown",
   "metadata": {},
   "source": [
    "## Business problem"
   ]
  },
  {
   "cell_type": "markdown",
   "metadata": {},
   "source": [
    "Being known for its outstanding international cuisine, influenced by the city’s immigrant history, Sushi restaurant have become very popular in over the last decades. As you can find Sushi restaurants in almost every city in the world by now this means it is a very highly competitive market, but with a great chance when being done right as there is a high demand by the inhabitants. \\\n",
    "\\\n",
    "My client, a Sushi restaurant chain in the medium sector, wants to open a Sushi business in New York. Based on the premises of the chain, we’re looking for a location with high-traffic e.g. in shopping malls or other points of interest. \\\n",
    "Based on these premises we define potential neighborhoods based on the number of sushi restaurants already available in the neighbourhood. But to ensure to receive high footfall we have to ensure we’re not too close to other established sushi places in the same area. \n"
   ]
  },
  {
   "cell_type": "markdown",
   "metadata": {},
   "source": [
    "## Target Audience"
   ]
  },
  {
   "cell_type": "markdown",
   "metadata": {},
   "source": [
    "My Client wants to open his business in Manhattan area, so I only focus on that borough during my analysis. The objective is to locate and recommend to the management which neighborhood of New York city will be best choice to start a restaurant. The Management also expects to understand the rationale of the recommendations made.\n",
    "This would interest anyone who wants to start a new restaurant in New York city."
   ]
  },
  {
   "cell_type": "code",
   "execution_count": null,
   "metadata": {},
   "outputs": [],
   "source": []
  }
 ],
 "metadata": {
  "kernelspec": {
   "display_name": "Python",
   "language": "python",
   "name": "conda-env-python-py"
  },
  "language_info": {
   "codemirror_mode": {
    "name": "ipython",
    "version": 3
   },
   "file_extension": ".py",
   "mimetype": "text/x-python",
   "name": "python",
   "nbconvert_exporter": "python",
   "pygments_lexer": "ipython3",
   "version": "3.6.10"
  }
 },
 "nbformat": 4,
 "nbformat_minor": 4
}
